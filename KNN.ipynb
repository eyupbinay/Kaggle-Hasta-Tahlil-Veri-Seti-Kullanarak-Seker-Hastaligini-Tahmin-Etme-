{
 "cells": [
  {
   "cell_type": "code",
   "execution_count": null,
   "id": "898ccb03",
   "metadata": {},
   "outputs": [],
   "source": [
    "import pandas as pd\n",
    "import matplotlib.pyplot as plt\n",
    "import numpy as np\n",
    "from sklearn.model_selection import train_test_split\n",
    "from sklearn.neighbors import KNeighborsClassifier\n",
    "\n",
    "\n",
    "# Outcome = 1 Diabet/Şeker Hastası\n",
    "# Outcome = 0 Sağlıklı\n",
    "data = pd.read_csv(\"diabetes.csv\")\n",
    "data.head()"
   ]
  },
  {
   "cell_type": "code",
   "execution_count": null,
   "id": "6ce3d7b3",
   "metadata": {},
   "outputs": [],
   "source": [
    "\n",
    "y = data.Outcome.values\n",
    "x_ham_veri = data.drop([\"Outcome\"],axis=1)   \n",
    "\n",
    "x = (x_ham_veri - np.min(x_ham_veri))/(np.max(x_ham_veri)-np.min(x_ham_veri))\n",
    "\n",
    "# önce\n",
    "print(\"Normalization öncesi ham veriler:\\n\")\n",
    "print(x_ham_veri.head())\n",
    "\n",
    "# sonra \n",
    "print(\"\\n\\n\\nNormalization sonrası yapay zekaya eğitim için vereceğimiz veriler:\\n\")\n",
    "print(x.head())"
   ]
  },
  {
   "cell_type": "code",
   "execution_count": null,
   "id": "6270d96d",
   "metadata": {},
   "outputs": [],
   "source": [
    "x_train, x_test, y_train, y_test = train_test_split(x,y,test_size = 0.1,random_state=1)\n",
    "\n",
    "knn = KNeighborsClassifier(n_neighbors = 3) \n",
    "knn.fit(x_train,y_train)\n",
    "prediction = knn.predict(x_test)\n",
    "print(\"K=3 için Test verilerimizin doğrulama testi sonucu \", knn.score(x_test, y_test))\n"
   ]
  },
  {
   "cell_type": "code",
   "execution_count": null,
   "id": "4650f1b5",
   "metadata": {},
   "outputs": [],
   "source": [
    "sayac = 1\n",
    "for k in range(1,11):\n",
    "    knn_yeni = KNeighborsClassifier(n_neighbors = k)\n",
    "    knn_yeni.fit(x_train,y_train)\n",
    "    print(sayac, \"  \", \"Doğruluk oranı: %\", knn_yeni.score(x_test,y_test)*100)\n",
    "    sayac += 1\n",
    "    \n",
    "    "
   ]
  },
  {
   "cell_type": "code",
   "execution_count": null,
   "id": "68c5625a",
   "metadata": {},
   "outputs": [],
   "source": [
    "# Yeni bir hasta tahmini için:\n",
    "from sklearn.preprocessing import MinMaxScaler\n",
    "sc = MinMaxScaler()\n",
    "sc.fit_transform(x_ham_veri)\n",
    "\n",
    "new_prediction = knn.predict(sc.transform(np.array([[6,148,72,35,0,33.6,0.627,50]])))\n",
    "new_prediction[0]"
   ]
  }
 ],
 "metadata": {
  "kernelspec": {
   "display_name": "Python 3 (ipykernel)",
   "language": "python",
   "name": "python3"
  },
  "language_info": {
   "codemirror_mode": {
    "name": "ipython",
    "version": 3
   },
   "file_extension": ".py",
   "mimetype": "text/x-python",
   "name": "python",
   "nbconvert_exporter": "python",
   "pygments_lexer": "ipython3",
   "version": "3.7.13"
  }
 },
 "nbformat": 4,
 "nbformat_minor": 5
}
